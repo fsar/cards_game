{
 "cells": [
  {
   "cell_type": "markdown",
   "metadata": {},
   "source": [
    "# Jeu de cartes\n",
    "Le but du jeu est d'arriver à 26 points.\n",
    "A la fin de chaque manche, il y a deux possibilités: \n",
    "- Gagner 1 point\n",
    "- Gagner 2 points\n",
    "\n",
    "**Calculons le nombre de combinaisons possibles de points pour arriver à 26 points.**"
   ]
  },
  {
   "cell_type": "markdown",
   "metadata": {},
   "source": [
    "Nous pouvons approcher ce calcul d'une manière récursive.\n",
    "\n",
    "Définissons une fonction f(n) qui renvoie le nombre de combinaisons possibles pour arriver à n points. Nous voulons trouver la valeur de f(26).\n",
    "\n",
    "Nous savons que :\n",
    "- f(1) = 1, car il n'y a qu'une seule possibilité d'avoir 1 point, c'est de gagner une manche avec 1 point.\n",
    "- f(2) = 2, car il n'y a que deux possibilités d'avoir 2 points, qui sont soit de gagner une manche avec 2 points ou soit deux manches avec 1 point.\n",
    "\n",
    "D'une manière générale, quand nous sommes à n points de notre but, nous pouvons soit gagner 1 point soit gagner 2 points. Nous serons donc soit à n-1 points de notre but, soit n-2.\n",
    "\n",
    "Nous pouvons donc dire que le nombre de combinaisons possibles pour arriver à n points est égal au nombre our n-1 points plus le nombre pour n-2 points.\n",
    "\n",
    "Ce qui nous donne la relation suivante, pour n > 2:\n",
    "\n",
    "**f(n) = f(n-1) + f(n-2)**\n",
    "\n",
    "Nous reconnaissons la séquence de Fibonacci. "
   ]
  },
  {
   "cell_type": "code",
   "execution_count": 1,
   "metadata": {},
   "outputs": [],
   "source": [
    "def fibonacci(n):\n",
    "    if n == 0:\n",
    "        return 0\n",
    "    if n == 1:\n",
    "        return 1\n",
    "    return fibonacci(n-1) + fibonacci(n-2)"
   ]
  },
  {
   "cell_type": "markdown",
   "metadata": {},
   "source": [
    "Etant donné que la séquence de Fibonacci commence au terme 0, nous pouvons calculer notre f(26) comme fibonacci(27):"
   ]
  },
  {
   "cell_type": "code",
   "execution_count": 2,
   "metadata": {},
   "outputs": [
    {
     "name": "stdout",
     "output_type": "stream",
     "text": [
      "196418\n"
     ]
    }
   ],
   "source": [
    "print(fibonacci(27))"
   ]
  },
  {
   "cell_type": "markdown",
   "metadata": {},
   "source": [
    "Il y a donc **196418** combinaisons possibles pour arriver à 26 points."
   ]
  }
 ],
 "metadata": {
  "kernelspec": {
   "display_name": "Python 3",
   "language": "python",
   "name": "python3"
  },
  "language_info": {
   "codemirror_mode": {
    "name": "ipython",
    "version": 3
   },
   "file_extension": ".py",
   "mimetype": "text/x-python",
   "name": "python",
   "nbconvert_exporter": "python",
   "pygments_lexer": "ipython3",
   "version": "3.6.5"
  }
 },
 "nbformat": 4,
 "nbformat_minor": 2
}
